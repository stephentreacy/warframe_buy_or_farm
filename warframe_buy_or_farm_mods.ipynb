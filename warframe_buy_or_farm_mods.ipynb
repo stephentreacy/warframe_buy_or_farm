{
 "metadata": {
  "language_info": {
   "codemirror_mode": {
    "name": "ipython",
    "version": 3
   },
   "file_extension": ".py",
   "mimetype": "text/x-python",
   "name": "python",
   "nbconvert_exporter": "python",
   "pygments_lexer": "ipython3",
   "version": "3.9.0-final"
  },
  "orig_nbformat": 2,
  "kernelspec": {
   "name": "python3",
   "display_name": "Python 3.9.0 64-bit",
   "metadata": {
    "interpreter": {
     "hash": "0062de60b03dc600b3c928cda3bb59847162c1c3a210abd21a19af4653c49c73"
    }
   }
  }
 },
 "nbformat": 4,
 "nbformat_minor": 2,
 "cells": [
  {
   "cell_type": "code",
   "execution_count": 1,
   "metadata": {},
   "outputs": [],
   "source": [
    "import json\n",
    "import urllib.request\n",
    "import pandas as pd\n",
    "import time\n",
    "\n",
    "def get_market_prices(item):\n",
    "    \"\"\"Create a dictionary for item with the highest 4 buy orders and lowest 4 sell orders\"\"\"\n",
    "    \n",
    "    api_url = 'https://api.warframe.market/v1/items/'\n",
    "    name_url = item.lower().replace(' ','_').replace('-','_').replace(\"'\",'').replace('&','and')\n",
    "    url_item = api_url + name_url + '/statistics'\n",
    "    statistics = {} \n",
    "    \n",
    "    try:\n",
    "        json_url_item = urllib.request.urlopen(url_item)          \n",
    "    except:\n",
    "        print(f'Item: {item} not found')\n",
    "    else:\n",
    "        data_item = json.loads(json_url_item.read())\n",
    "        statistics = data_item['payload']['statistics_closed']['90days']\n",
    "    finally:\n",
    "        return statistics  \n",
    "\t\t\n",
    "#URL of JSON file on github that gets regularly updated\n",
    "url = 'https://raw.githubusercontent.com/WFCD/warframe-items/development/data/json/Mods.json'\n",
    "\n"
   ]
  },
  {
   "cell_type": "code",
   "execution_count": 2,
   "metadata": {},
   "outputs": [],
   "source": [
    "#Get the mods\n",
    "json_raw = urllib.request.urlopen(url)          \n",
    "data = json.loads(json_raw.read())\n",
    "\n",
    "df_mods = pd.DataFrame(data)\n",
    "df_mods = df_mods[df_mods['tradable']]\n",
    "df_mods.drop_duplicates(subset=['name'], inplace=True, ignore_index=True)\n",
    "\n",
    "#Take the rare mod names\n",
    "rare_mods = df_mods[df_mods['rarity'] == 'Rare']\n",
    "rare_mod_names = rare_mods['name'].tolist()"
   ]
  },
  {
   "cell_type": "code",
   "execution_count": 3,
   "metadata": {},
   "outputs": [
    {
     "output_type": "stream",
     "name": "stdout",
     "text": [
      "Abating Link\n",
      "2\n",
      "14.0\n",
      "15.0\n",
      "14.5\n",
      "14.5\n"
     ]
    }
   ],
   "source": [
    "#Test getting statistics\n",
    "print(rare_mod_names[0])\n",
    "\n",
    "mod_stats = get_market_prices(rare_mod_names[0])\n",
    "print(mod_stats[-1]['volume'])\n",
    "print(mod_stats[-1]['min_price'])\n",
    "print(mod_stats[-1]['max_price'])\n",
    "print(mod_stats[-1]['avg_price'])\n",
    "print(mod_stats[-1]['median'])"
   ]
  },
  {
   "cell_type": "code",
   "execution_count": null,
   "metadata": {},
   "outputs": [],
   "source": []
  }
 ]
}